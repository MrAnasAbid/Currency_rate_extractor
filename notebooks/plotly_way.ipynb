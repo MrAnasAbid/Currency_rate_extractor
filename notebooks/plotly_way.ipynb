{
 "cells": [
  {
   "cell_type": "code",
   "execution_count": 1,
   "metadata": {},
   "outputs": [],
   "source": [
    "import pandas as pd\n",
    "import sqlite3\n",
    "import os\n",
    "\n",
    "from pathlib import Path\n",
    "ROOT = os.getenv('ROOT')"
   ]
  },
  {
   "cell_type": "code",
   "execution_count": 2,
   "metadata": {},
   "outputs": [
    {
     "data": {
      "text/plain": [
       "WindowsPath('C:/Users/mabid/OneDrive/Desktop/Projects - Ongoing/Airflow_ETL/data/currency_rates.db')"
      ]
     },
     "execution_count": 2,
     "metadata": {},
     "output_type": "execute_result"
    }
   ],
   "source": [
    "Path(ROOT, \"data/currency_rates.db\")"
   ]
  },
  {
   "cell_type": "code",
   "execution_count": 3,
   "metadata": {},
   "outputs": [],
   "source": [
    "import sqlite3\n",
    "# Create a sqlite3 database\n",
    "fetch_data_query = '''\n",
    "SELECT currency_rates.Currency_Code, currency_names.Currency_Name, currency_rates.Rate, currency_rates.date\n",
    "FROM currency_rates\n",
    "JOIN currency_names\n",
    "ON currency_rates.Currency_Code = currency_names.Currency_Code\n",
    "'''\n",
    "\n",
    "conn = sqlite3.connect(Path(ROOT, \"data/currency_rates.db\"))\n",
    "c = conn.cursor()\n",
    "\n",
    "data = pd.read_sql_query(fetch_data_query, conn)"
   ]
  },
  {
   "cell_type": "code",
   "execution_count": 4,
   "metadata": {},
   "outputs": [
    {
     "data": {
      "text/html": [
       "<div>\n",
       "<style scoped>\n",
       "    .dataframe tbody tr th:only-of-type {\n",
       "        vertical-align: middle;\n",
       "    }\n",
       "\n",
       "    .dataframe tbody tr th {\n",
       "        vertical-align: top;\n",
       "    }\n",
       "\n",
       "    .dataframe thead th {\n",
       "        text-align: right;\n",
       "    }\n",
       "</style>\n",
       "<table border=\"1\" class=\"dataframe\">\n",
       "  <thead>\n",
       "    <tr style=\"text-align: right;\">\n",
       "      <th></th>\n",
       "      <th>currency_code</th>\n",
       "      <th>currency_name</th>\n",
       "      <th>rate</th>\n",
       "      <th>date</th>\n",
       "    </tr>\n",
       "  </thead>\n",
       "  <tbody>\n",
       "    <tr>\n",
       "      <th>0</th>\n",
       "      <td>USD</td>\n",
       "      <td>United States Dollar</td>\n",
       "      <td>1.0000</td>\n",
       "      <td>Mon, 03 Jun 2024</td>\n",
       "    </tr>\n",
       "    <tr>\n",
       "      <th>1</th>\n",
       "      <td>AED</td>\n",
       "      <td>UAE Dirham</td>\n",
       "      <td>3.6725</td>\n",
       "      <td>Mon, 03 Jun 2024</td>\n",
       "    </tr>\n",
       "    <tr>\n",
       "      <th>2</th>\n",
       "      <td>AFN</td>\n",
       "      <td>Afghan Afghani</td>\n",
       "      <td>71.2981</td>\n",
       "      <td>Mon, 03 Jun 2024</td>\n",
       "    </tr>\n",
       "    <tr>\n",
       "      <th>3</th>\n",
       "      <td>ALL</td>\n",
       "      <td>Albanian Lek</td>\n",
       "      <td>92.9346</td>\n",
       "      <td>Mon, 03 Jun 2024</td>\n",
       "    </tr>\n",
       "    <tr>\n",
       "      <th>4</th>\n",
       "      <td>AMD</td>\n",
       "      <td>Armenian Dram</td>\n",
       "      <td>387.6778</td>\n",
       "      <td>Mon, 03 Jun 2024</td>\n",
       "    </tr>\n",
       "  </tbody>\n",
       "</table>\n",
       "</div>"
      ],
      "text/plain": [
       "  currency_code         currency_name      rate              date\n",
       "0           USD  United States Dollar    1.0000  Mon, 03 Jun 2024\n",
       "1           AED            UAE Dirham    3.6725  Mon, 03 Jun 2024\n",
       "2           AFN        Afghan Afghani   71.2981  Mon, 03 Jun 2024\n",
       "3           ALL          Albanian Lek   92.9346  Mon, 03 Jun 2024\n",
       "4           AMD         Armenian Dram  387.6778  Mon, 03 Jun 2024"
      ]
     },
     "execution_count": 4,
     "metadata": {},
     "output_type": "execute_result"
    }
   ],
   "source": [
    "currency_rate_df = data.copy()\n",
    "currency_rate_df.head()"
   ]
  },
  {
   "cell_type": "code",
   "execution_count": 5,
   "metadata": {},
   "outputs": [],
   "source": [
    "import matplotlib.pyplot as plt\n",
    "\n",
    "def process_currency_data(currency_df, currency_code=None, currency_name=None):\n",
    "    \"\"\"\n",
    "    Process the currency DataFrame to prepare it for plotting.\n",
    "    \n",
    "    Parameters:\n",
    "    - currency_df: DataFrame containing currency data.\n",
    "    - currency_code: Specific currency code to filter the data.\n",
    "    - currency_name: Specific currency name to filter the data.\n",
    "    \n",
    "    Returns:\n",
    "    - complete_df: Processed DataFrame with filled values and additional columns.\n",
    "    - currency_code: The currency code used for filtering.\n",
    "    - currency_name: The currency name used for filtering.\n",
    "    \"\"\"\n",
    "    if currency_code is None and currency_name is None:\n",
    "        raise ValueError(\"You must specify either currency_code or currency_name\")\n",
    "    if currency_code is not None and currency_name is not None:\n",
    "        raise ValueError(\"You must specify either currency_code or currency_name, not both\")\n",
    "\n",
    "    if currency_code is not None:\n",
    "        currency_df_sliced = currency_df.loc[currency_df[\"currency_code\"] == currency_code].copy()\n",
    "    if currency_name is not None:\n",
    "        currency_df_sliced = currency_df.loc[currency_df[\"currency_name\"].str.contains(currency_name)].copy()\n",
    "\n",
    "    currency_name = currency_df_sliced[\"currency_name\"].iloc[0]\n",
    "    currency_code = currency_df_sliced[\"currency_code\"].iloc[0]\n",
    "    currency_df_sliced[\"date_standard_format\"] = pd.to_datetime(currency_df_sliced[\"date\"])\n",
    "    currency_df_sliced[\"in_dollars\"] = 1 / currency_df_sliced[\"rate\"]\n",
    "\n",
    "    first_date = currency_df_sliced[\"date_standard_format\"].min()\n",
    "    last_date = currency_df_sliced[\"date_standard_format\"].max()\n",
    "\n",
    "    # Create a complete DataFrame with date range\n",
    "    complete_dates = pd.date_range(start=first_date, end=last_date, freq=\"D\")\n",
    "    complete_df = pd.DataFrame({\"date_standard_format\": complete_dates})\n",
    "    complete_df = complete_df.merge(currency_df_sliced, on=\"date_standard_format\", how=\"left\")\n",
    "    complete_df[\"in_dollars\"] = complete_df[\"in_dollars\"].ffill()\n",
    "    complete_df[\"date_natural_format\"] = complete_df[\"date_standard_format\"].dt.strftime(\"%d/%m/%Y\")\n",
    "    complete_df[\"date\"] = complete_df[\"date_standard_format\"].dt.strftime(\"%d %B %Y\")\n",
    "    complete_df[[\"currency_code\", \"currency_name\", \"rate\"]] = complete_df[[\"currency_code\", \"currency_name\", \"rate\"]].ffill()\n",
    "\n",
    "    return complete_df, currency_code, currency_name\n",
    "\n",
    "def plot_currency_evolution(complete_df, currency_code = None, currency_name = None):\n",
    "    \"\"\"\n",
    "    Plot the evolution of the value of a currency in USD over time.\n",
    "    \n",
    "    Parameters:\n",
    "    - complete_df: DataFrame containing processed currency data.\n",
    "    - currency_code: The currency code used for filtering.\n",
    "    - currency_name: The currency name used for filtering.\n",
    "    \"\"\"\n",
    "    fig, ax = plt.subplots(figsize=(10, 6))\n",
    "    \n",
    "    if currency_code is None and currency_name is None:\n",
    "        raise ValueError(\"You must specify either currency_code or currency_name\")\n",
    "    if currency_code is not None and currency_name is not None:\n",
    "        raise ValueError(\"You must specify either currency_code or currency_name, not both\")\n",
    "\n",
    "    if currency_code is not None:\n",
    "        complete_df_filtered = complete_df.loc[complete_df[\"currency_code\"] == currency_code].copy()\n",
    "    if currency_name is not None:\n",
    "        complete_df_filtered = complete_df.loc[complete_df[\"currency_name\"].str.contains(currency_name)].copy()\n",
    "\n",
    "    currency_code, currency_name = complete_df_filtered[\"currency_code\"].iloc[0], complete_df_filtered[\"currency_name\"].iloc[0]\n",
    "\n",
    "    complete_df_filtered.plot(x=\"date_natural_format\", y=\"in_dollars\", title=f\"{currency_code} ({currency_name}) value in USD\",\n",
    "                     ylabel=\"USD\", xlabel=\"date_natural_format\", rot=45, marker=\"o\", legend=False, ax=ax)\n",
    "    \n",
    "    return complete_df_filtered, currency_code, currency_name"
   ]
  },
  {
   "cell_type": "code",
   "execution_count": 6,
   "metadata": {},
   "outputs": [],
   "source": [
    "complete_df, currency_code, currency_name = process_currency_data(currency_rate_df, currency_code=\"EUR\")"
   ]
  },
  {
   "cell_type": "code",
   "execution_count": 7,
   "metadata": {},
   "outputs": [
    {
     "data": {
      "image/png": "[encoded data removed]",
      "text/plain": [
       "<Figure size 1000x600 with 1 Axes>"
      ]
     },
     "metadata": {},
     "output_type": "display_data"
    }
   ],
   "source": [
    "complete_df_for_plotting, currency_code, currency_name = plot_currency_evolution(complete_df, currency_code=\"EUR\")"
   ]
  },
  {
   "cell_type": "markdown",
   "metadata": {},
   "source": [
    "### Using Plotly"
   ]
  },
  {
   "cell_type": "code",
   "execution_count": null,
   "metadata": {},
   "outputs": [
    {
     "data": {
      "application/vnd.plotly.v1+json": {
       "config": {
        "plotlyServerURL": "https://plot.ly"
       },
       "data": [
        {
         "hoverinfo": "text",
         "mode": "lines+markers",
         "showlegend": false,
         "text": [
          "03/06/2024 : 1.085$",
          "04/06/2024 : 1.085$",
          "05/06/2024 : 1.088$",
          "06/06/2024 : 1.087$",
          "07/06/2024 : 1.087$",
          "08/06/2024 : 1.083$",
          "09/06/2024 : 1.083$",
          "10/06/2024 : 1.079$",
          "11/06/2024 : 1.076$",
          "12/06/2024 : 1.074$",
          "13/06/2024 : 1.074$",
          "14/06/2024 : 1.076$",
          "15/06/2024 : 1.070$",
          "16/06/2024 : 1.070$",
          "17/06/2024 : 1.070$",
          "18/06/2024 : 1.073$",
          "19/06/2024 : 1.073$",
          "20/06/2024 : 1.075$",
          "21/06/2024 : 1.071$",
          "22/06/2024 : 1.071$",
          "23/06/2024 : 1.069$",
          "24/06/2024 : 1.069$",
          "25/06/2024 : 1.073$",
          "26/06/2024 : 1.072$",
          "27/06/2024 : 1.069$",
          "28/06/2024 : 1.070$",
          "29/06/2024 : 1.071$",
          "30/06/2024 : 1.071$",
          "01/07/2024 : 1.073$",
          "02/07/2024 : 1.074$",
          "03/07/2024 : 1.074$",
          "04/07/2024 : 1.078$",
          "05/07/2024 : 1.081$",
          "06/07/2024 : 1.083$",
          "07/07/2024 : 1.083$",
          "08/07/2024 : 1.083$",
          "09/07/2024 : 1.083$",
          "10/07/2024 : 1.082$",
          "11/07/2024 : 1.082$",
          "12/07/2024 : 1.086$",
          "13/07/2024 : 1.090$",
          "14/07/2024 : 1.090$",
          "15/07/2024 : 1.089$",
          "16/07/2024 : 1.090$",
          "17/07/2024 : 1.090$",
          "18/07/2024 : 1.093$",
          "19/07/2024 : 1.091$",
          "20/07/2024 : 1.088$",
          "21/07/2024 : 1.088$",
          "22/07/2024 : 1.089$",
          "23/07/2024 : 1.089$",
          "24/07/2024 : 1.086$",
          "25/07/2024 : 1.084$",
          "26/07/2024 : 1.085$",
          "27/07/2024 : 1.085$",
          "28/07/2024 : 1.085$",
          "29/07/2024 : 1.086$",
          "30/07/2024 : 1.082$",
          "31/07/2024 : 1.082$",
          "01/08/2024 : 1.082$",
          "02/08/2024 : 1.079$",
          "03/08/2024 : 1.089$",
          "04/08/2024 : 1.088$",
          "05/08/2024 : 1.090$",
          "06/08/2024 : 1.095$",
          "07/08/2024 : 1.093$",
          "08/08/2024 : 1.092$",
          "09/08/2024 : 1.092$",
          "10/08/2024 : 1.092$",
          "11/08/2024 : 1.092$",
          "12/08/2024 : 1.092$",
          "13/08/2024 : 1.093$",
          "14/08/2024 : 1.097$",
          "15/08/2024 : 1.102$",
          "16/08/2024 : 1.098$",
          "17/08/2024 : 1.100$",
          "18/08/2024 : 1.100$",
          "19/08/2024 : 1.102$",
          "20/08/2024 : 1.107$",
          "21/08/2024 : 1.111$",
          "22/08/2024 : 1.114$",
          "23/08/2024 : 1.112$",
          "24/08/2024 : 1.116$",
          "25/08/2024 : 1.116$",
          "26/08/2024 : 1.118$",
          "27/08/2024 : 1.117$",
          "28/08/2024 : 1.117$",
          "29/08/2024 : 1.112$",
          "30/08/2024 : 1.108$",
          "31/08/2024 : 1.106$",
          "01/09/2024 : 1.106$",
          "02/09/2024 : 1.105$",
          "03/09/2024 : 1.106$",
          "04/09/2024 : 1.104$",
          "05/09/2024 : 1.107$",
          "06/09/2024 : 1.110$",
          "07/09/2024 : 1.109$",
          "08/09/2024 : 1.110$",
          "09/09/2024 : 1.109$",
          "10/09/2024 : 1.109$",
          "11/09/2024 : 1.109$",
          "12/09/2024 : 1.109$",
          "13/09/2024 : 1.109$",
          "14/09/2024 : 1.109$",
          "15/09/2024 : 1.109$",
          "16/09/2024 : 1.109$",
          "17/09/2024 : 1.109$",
          "18/09/2024 : 1.109$",
          "19/09/2024 : 1.109$",
          "20/09/2024 : 1.109$",
          "21/09/2024 : 1.109$",
          "22/09/2024 : 1.109$",
          "23/09/2024 : 1.116$",
          "24/09/2024 : 1.112$",
          "25/09/2024 : 1.117$",
          "26/09/2024 : 1.115$",
          "27/09/2024 : 1.117$",
          "28/09/2024 : 1.116$",
          "29/09/2024 : 1.116$",
          "30/09/2024 : 1.117$",
          "01/10/2024 : 1.115$",
          "02/10/2024 : 1.108$",
          "03/10/2024 : 1.105$",
          "04/10/2024 : 1.103$",
          "05/10/2024 : 1.099$",
          "06/10/2024 : 1.099$",
          "07/10/2024 : 1.097$",
          "08/10/2024 : 1.097$",
          "09/10/2024 : 1.097$",
          "10/10/2024 : 1.095$",
          "11/10/2024 : 1.093$",
          "12/10/2024 : 1.094$",
          "13/10/2024 : 1.094$",
          "14/10/2024 : 1.093$",
          "15/10/2024 : 1.091$",
          "16/10/2024 : 1.089$",
          "17/10/2024 : 1.087$",
          "18/10/2024 : 1.084$",
          "19/10/2024 : 1.086$",
          "20/10/2024 : 1.085$",
          "21/10/2024 : 1.086$",
          "22/10/2024 : 1.083$",
          "23/10/2024 : 1.080$",
          "24/10/2024 : 1.078$",
          "25/10/2024 : 1.081$",
          "26/10/2024 : 1.081$",
          "27/10/2024 : 1.081$",
          "28/10/2024 : 1.080$",
          "29/10/2024 : 1.082$",
          "30/10/2024 : 1.081$",
          "31/10/2024 : 1.085$",
          "01/11/2024 : 1.087$",
          "02/11/2024 : 1.085$",
          "03/11/2024 : 1.085$",
          "04/11/2024 : 1.087$",
          "05/11/2024 : 1.088$",
          "06/11/2024 : 1.091$",
          "07/11/2024 : 1.073$",
          "08/11/2024 : 1.079$",
          "09/11/2024 : 1.074$",
          "10/11/2024 : 1.074$",
          "11/11/2024 : 1.072$",
          "12/11/2024 : 1.066$",
          "13/11/2024 : 1.062$",
          "14/11/2024 : 1.058$",
          "15/11/2024 : 1.054$",
          "16/11/2024 : 1.055$",
          "17/11/2024 : 1.055$",
          "18/11/2024 : 1.054$",
          "19/11/2024 : 1.054$",
          "20/11/2024 : 1.054$",
          "21/11/2024 : 1.055$",
          "22/11/2024 : 1.055$",
          "23/11/2024 : 1.055$",
          "24/11/2024 : 1.042$"
         ],
         "type": "scatter",
         "x": [
          "2024-06-03T00:00:00",
          "2024-06-04T00:00:00",
          "2024-06-05T00:00:00",
          "2024-06-06T00:00:00",
          "2024-06-07T00:00:00",
          "2024-06-08T00:00:00",
          "2024-06-09T00:00:00",
          "2024-06-10T00:00:00",
          "2024-06-11T00:00:00",
          "2024-06-12T00:00:00",
          "2024-06-13T00:00:00",
          "2024-06-14T00:00:00",
          "2024-06-15T00:00:00",
          "2024-06-16T00:00:00",
          "2024-06-17T00:00:00",
          "2024-06-18T00:00:00",
          "2024-06-19T00:00:00",
          "2024-06-20T00:00:00",
          "2024-06-21T00:00:00",
          "2024-06-22T00:00:00",
          "2024-06-23T00:00:00",
          "2024-06-24T00:00:00",
          "2024-06-25T00:00:00",
          "2024-06-26T00:00:00",
          "2024-06-27T00:00:00",
          "2024-06-28T00:00:00",
          "2024-06-29T00:00:00",
          "2024-06-30T00:00:00",
          "2024-07-01T00:00:00",
          "2024-07-02T00:00:00",
          "2024-07-03T00:00:00",
          "2024-07-04T00:00:00",
          "2024-07-05T00:00:00",
          "2024-07-06T00:00:00",
          "2024-07-07T00:00:00",
          "2024-07-08T00:00:00",
          "2024-07-09T00:00:00",
          "2024-07-10T00:00:00",
          "2024-07-11T00:00:00",
          "2024-07-12T00:00:00",
          "2024-07-13T00:00:00",
          "2024-07-14T00:00:00",
          "2024-07-15T00:00:00",
          "2024-07-16T00:00:00",
          "2024-07-17T00:00:00",
          "2024-07-18T00:00:00",
          "2024-07-19T00:00:00",
          "2024-07-20T00:00:00",
          "2024-07-21T00:00:00",
          "2024-07-22T00:00:00",
          "2024-07-23T00:00:00",
          "2024-07-24T00:00:00",
          "2024-07-25T00:00:00",
          "2024-07-26T00:00:00",
          "2024-07-27T00:00:00",
          "2024-07-28T00:00:00",
          "2024-07-29T00:00:00",
          "2024-07-30T00:00:00",
          "2024-07-31T00:00:00",
          "2024-08-01T00:00:00",
          "2024-08-02T00:00:00",
          "2024-08-03T00:00:00",
          "2024-08-04T00:00:00",
          "2024-08-05T00:00:00",
          "2024-08-06T00:00:00",
          "2024-08-07T00:00:00",
          "2024-08-08T00:00:00",
          "2024-08-09T00:00:00",
          "2024-08-10T00:00:00",
          "2024-08-11T00:00:00",
          "2024-08-12T00:00:00",
          "2024-08-13T00:00:00",
          "2024-08-14T00:00:00",
          "2024-08-15T00:00:00",
          "2024-08-16T00:00:00",
          "2024-08-17T00:00:00",
          "2024-08-18T00:00:00",
          "2024-08-19T00:00:00",
          "2024-08-20T00:00:00",
          "2024-08-21T00:00:00",
          "2024-08-22T00:00:00",
          "2024-08-23T00:00:00",
          "2024-08-24T00:00:00",
          "2024-08-25T00:00:00",
          "2024-08-26T00:00:00",
          "2024-08-27T00:00:00",
          "2024-08-28T00:00:00",
          "2024-08-29T00:00:00",
          "2024-08-30T00:00:00",
          "2024-08-31T00:00:00",
          "2024-09-01T00:00:00",
          "2024-09-02T00:00:00",
          "2024-09-03T00:00:00",
          "2024-09-04T00:00:00",
          "2024-09-05T00:00:00",
          "2024-09-06T00:00:00",
          "2024-09-07T00:00:00",
          "2024-09-08T00:00:00",
          "2024-09-09T00:00:00",
          "2024-09-10T00:00:00",
          "2024-09-11T00:00:00",
          "2024-09-12T00:00:00",
          "2024-09-13T00:00:00",
          "2024-09-14T00:00:00",
          "2024-09-15T00:00:00",
          "2024-09-16T00:00:00",
          "2024-09-17T00:00:00",
          "2024-09-18T00:00:00",
          "2024-09-19T00:00:00",
          "2024-09-20T00:00:00",
          "2024-09-21T00:00:00",
          "2024-09-22T00:00:00",
          "2024-09-23T00:00:00",
          "2024-09-24T00:00:00",
          "2024-09-25T00:00:00",
          "2024-09-26T00:00:00",
          "2024-09-27T00:00:00",
          "2024-09-28T00:00:00",
          "2024-09-29T00:00:00",
          "2024-09-30T00:00:00",
          "2024-10-01T00:00:00",
          "2024-10-02T00:00:00",
          "2024-10-03T00:00:00",
          "2024-10-04T00:00:00",
          "2024-10-05T00:00:00",
          "2024-10-06T00:00:00",
          "2024-10-07T00:00:00",
          "2024-10-08T00:00:00",
          "2024-10-09T00:00:00",
          "2024-10-10T00:00:00",
          "2024-10-11T00:00:00",
          "2024-10-12T00:00:00",
          "2024-10-13T00:00:00",
          "2024-10-14T00:00:00",
          "2024-10-15T00:00:00",
          "2024-10-16T00:00:00",
          "2024-10-17T00:00:00",
          "2024-10-18T00:00:00",
          "2024-10-19T00:00:00",
          "2024-10-20T00:00:00",
          "2024-10-21T00:00:00",
          "2024-10-22T00:00:00",
          "2024-10-23T00:00:00",
          "2024-10-24T00:00:00",
          "2024-10-25T00:00:00",
          "2024-10-26T00:00:00",
          "2024-10-27T00:00:00",
          "2024-10-28T00:00:00",
          "2024-10-29T00:00:00",
          "2024-10-30T00:00:00",
          "2024-10-31T00:00:00",
          "2024-11-01T00:00:00",
          "2024-11-02T00:00:00",
          "2024-11-03T00:00:00",
          "2024-11-04T00:00:00",
          "2024-11-05T00:00:00",
          "2024-11-06T00:00:00",
          "2024-11-07T00:00:00",
          "2024-11-08T00:00:00",
          "2024-11-09T00:00:00",
          "2024-11-10T00:00:00",
          "2024-11-11T00:00:00",
          "2024-11-12T00:00:00",
          "2024-11-13T00:00:00",
          "2024-11-14T00:00:00",
          "2024-11-15T00:00:00",
          "2024-11-16T00:00:00",
          "2024-11-17T00:00:00",
          "2024-11-18T00:00:00",
          "2024-11-19T00:00:00",
          "2024-11-20T00:00:00",
          "2024-11-21T00:00:00",
          "2024-11-22T00:00:00",
          "2024-11-23T00:00:00",
          "2024-11-24T00:00:00"
         ],
         "xaxis": "x",
         "y": [
          1.0849517196484757,
          1.0849517196484757,
          1.0875475802066341,
          1.087192868014786,
          1.087192868014786,
          1.0827197921178,
          1.0827197921178,
          1.0793308148947653,
          1.0764262648008611,
          1.0737678513905293,
          1.0737678513905293,
          1.0758472296933836,
          1.0700909577314073,
          1.0702054794520548,
          1.0703200256876806,
          1.0725010725010724,
          1.0725010725010724,
          1.0748065348237317,
          1.0713520462824084,
          1.0713520462824084,
          1.0691756655618518,
          1.0690613641223006,
          1.0729613733905579,
          1.0716964955524595,
          1.068604402650139,
          1.0703200256876806,
          1.0708931248661384,
          1.0707784559374667,
          1.072731173567904,
          1.073998496402105,
          1.0741138560687433,
          1.0781671159029649,
          1.0807305738679347,
          1.0833062506770663,
          1.0828370330265296,
          1.0826025765941323,
          1.0829542993285683,
          1.081782778018174,
          1.082485386447283,
          1.0862480990658268,
          1.0897994768962511,
          1.0895619960775769,
          1.0889687465969726,
          1.090037061260083,
          1.0895619960775769,
          1.0932546190007653,
          1.0908694229300753,
          1.088139281828074,
          1.0882576994232234,
          1.0889687465969726,
          1.0887316276537833,
          1.0855405992184108,
          1.0841283607979184,
          1.0848340203948796,
          1.08542277216976,
          1.08542277216976,
          1.0855405992184108,
          1.0822510822510822,
          1.0815487778498811,
          1.082485386447283,
          1.0792143319663285,
          1.088850174216028,
          1.088494611951671,
          1.0903936321011884,
          1.0951702989814915,
          1.0926573426573427,
          1.0924186148131965,
          1.0918222513374822,
          1.0918222513374822,
          1.0915838882218099,
          1.0915838882218099,
          1.0928961748633879,
          1.097213078779899,
          1.1015642211940955,
          1.0984182776801406,
          1.1003521126760563,
          1.1001100110011002,
          1.1019283746556474,
          1.1070519207350824,
          1.110864252388358,
          1.1138338159946535,
          1.112099644128114,
          1.1164452383610584,
          1.1161960040183057,
          1.1181930001118192,
          1.1166945840312674,
          1.1171936096525528,
          1.1123470522803114,
          1.1081560283687943,
          1.1058277120424638,
          1.1063170704723972,
          1.1049723756906078,
          1.1061946902654867,
          1.1042402826855124,
          1.1069293779056897,
          1.1101243339253997,
          1.1090163025396473,
          1.1095084877399313,
          1.1088933244621866,
          1.1088933244621866,
          1.1088933244621866,
          1.1088933244621866,
          1.1088933244621866,
          1.1088933244621866,
          1.1088933244621866,
          1.1088933244621866,
          1.1088933244621866,
          1.1088933244621866,
          1.1088933244621866,
          1.1088933244621866,
          1.1088933244621866,
          1.1088933244621866,
          1.1161960040183057,
          1.1117287381878822,
          1.1165698972755695,
          1.1150758251561106,
          1.1169440411035407,
          1.1164452383610584,
          1.1163206072784102,
          1.1166945840312674,
          1.1148272017837235,
          1.1075423634954036,
          1.1048502927853276,
          1.1032656663724625,
          1.098659635245001,
          1.0993843447669305,
          1.0974539069359086,
          1.097213078779899,
          1.097333479644464,
          1.0946907498631637,
          1.0931351114997814,
          1.0938525486764383,
          1.0937329104232747,
          1.0927767457108513,
          1.0911074740861975,
          1.0893246187363834,
          1.0869565217391304,
          1.0835410120273052,
          1.0857763300760044,
          1.08542277216976,
          1.0863661053775122,
          1.0827197921178,
          1.0802635843145727,
          1.0781671159029649,
          1.0811979673478214,
          1.0807305738679347,
          1.0807305738679347,
          1.0800302408467437,
          1.0815487778498811,
          1.0808473843493298,
          1.0848340203948796,
          1.087429317094389,
          1.0847163466753444,
          1.0848340203948796,
          1.0869565217391304,
          1.0882576994232234,
          1.0913456291607553,
          1.07342206955775,
          1.079447322970639,
          1.0736525660296328,
          1.0737678513905293,
          1.0718113612004287,
          1.0660980810234542,
          1.0620220900594732,
          1.0580890911014706,
          1.053740779768177,
          1.0548523206751055,
          1.0547410610695074,
          1.0538518284329224,
          1.0538518284329224,
          1.0538518284329224,
          1.0545186122535062,
          1.0545186122535062,
          1.0545186122535062,
          1.0421008753647354
         ],
         "yaxis": "y"
        }
       ],
       "layout": {
        "height": 500,
        "showlegend": true,
        "template": {
         "data": {
          "bar": [
           {
            "error_x": {
             "color": "#2a3f5f"
            },
            "error_y": {
             "color": "#2a3f5f"
            },
            "marker": {
             "line": {
              "color": "#E5ECF6",
              "width": 0.5
             },
             "pattern": {
              "fillmode": "overlay",
              "size": 10,
              "solidity": 0.2
             }
            },
            "type": "bar"
           }
          ],
          "barpolar": [
           {
            "marker": {
             "line": {
              "color": "#E5ECF6",
              "width": 0.5
             },
             "pattern": {
              "fillmode": "overlay",
              "size": 10,
              "solidity": 0.2
             }
            },
            "type": "barpolar"
           }
          ],
          "carpet": [
           {
            "aaxis": {
             "endlinecolor": "#2a3f5f",
             "gridcolor": "white",
             "linecolor": "white",
             "minorgridcolor": "white",
             "startlinecolor": "#2a3f5f"
            },
            "baxis": {
             "endlinecolor": "#2a3f5f",
             "gridcolor": "white",
             "linecolor": "white",
             "minorgridcolor": "white",
             "startlinecolor": "#2a3f5f"
            },
            "type": "carpet"
           }
          ],
          "choropleth": [
           {
            "colorbar": {
             "outlinewidth": 0,
             "ticks": ""
            },
            "type": "choropleth"
           }
          ],
          "contour": [
           {
            "colorbar": {
             "outlinewidth": 0,
             "ticks": ""
            },
            "colorscale": [
             [
              0,
              "#0d0887"
             ],
             [
              0.1111111111111111,
              "#46039f"
             ],
             [
              0.2222222222222222,
              "#7201a8"
             ],
             [
              0.3333333333333333,
              "#9c179e"
             ],
             [
              0.4444444444444444,
              "#bd3786"
             ],
             [
              0.5555555555555556,
              "#d8576b"
             ],
             [
              0.6666666666666666,
              "#ed7953"
             ],
             [
              0.7777777777777778,
              "#fb9f3a"
             ],
             [
              0.8888888888888888,
              "#fdca26"
             ],
             [
              1,
              "#f0f921"
             ]
            ],
            "type": "contour"
           }
          ],
          "contourcarpet": [
           {
            "colorbar": {
             "outlinewidth": 0,
             "ticks": ""
            },
            "type": "contourcarpet"
           }
          ],
          "heatmap": [
           {
            "colorbar": {
             "outlinewidth": 0,
             "ticks": ""
            },
            "colorscale": [
             [
              0,
              "#0d0887"
             ],
             [
              0.1111111111111111,
              "#46039f"
             ],
             [
              0.2222222222222222,
              "#7201a8"
             ],
             [
              0.3333333333333333,
              "#9c179e"
             ],
             [
              0.4444444444444444,
              "#bd3786"
             ],
             [
              0.5555555555555556,
              "#d8576b"
             ],
             [
              0.6666666666666666,
              "#ed7953"
             ],
             [
              0.7777777777777778,
              "#fb9f3a"
             ],
             [
              0.8888888888888888,
              "#fdca26"
             ],
             [
              1,
              "#f0f921"
             ]
            ],
            "type": "heatmap"
           }
          ],
          "heatmapgl": [
           {
            "colorbar": {
             "outlinewidth": 0,
             "ticks": ""
            },
            "colorscale": [
             [
              0,
              "#0d0887"
             ],
             [
              0.1111111111111111,
              "#46039f"
             ],
             [
              0.2222222222222222,
              "#7201a8"
             ],
             [
              0.3333333333333333,
              "#9c179e"
             ],
             [
              0.4444444444444444,
              "#bd3786"
             ],
             [
              0.5555555555555556,
              "#d8576b"
             ],
             [
              0.6666666666666666,
              "#ed7953"
             ],
             [
              0.7777777777777778,
              "#fb9f3a"
             ],
             [
              0.8888888888888888,
              "#fdca26"
             ],
             [
              1,
              "#f0f921"
             ]
            ],
            "type": "heatmapgl"
           }
          ],
          "histogram": [
           {
            "marker": {
             "pattern": {
              "fillmode": "overlay",
              "size": 10,
              "solidity": 0.2
             }
            },
            "type": "histogram"
           }
          ],
          "histogram2d": [
           {
            "colorbar": {
             "outlinewidth": 0,
             "ticks": ""
            },
            "colorscale": [
             [
              0,
              "#0d0887"
             ],
             [
              0.1111111111111111,
              "#46039f"
             ],
             [
              0.2222222222222222,
              "#7201a8"
             ],
             [
              0.3333333333333333,
              "#9c179e"
             ],
             [
              0.4444444444444444,
              "#bd3786"
             ],
             [
              0.5555555555555556,
              "#d8576b"
             ],
             [
              0.6666666666666666,
              "#ed7953"
             ],
             [
              0.7777777777777778,
              "#fb9f3a"
             ],
             [
              0.8888888888888888,
              "#fdca26"
             ],
             [
              1,
              "#f0f921"
             ]
            ],
            "type": "histogram2d"
           }
          ],
          "histogram2dcontour": [
           {
            "colorbar": {
             "outlinewidth": 0,
             "ticks": ""
            },
            "colorscale": [
             [
              0,
              "#0d0887"
             ],
             [
              0.1111111111111111,
              "#46039f"
             ],
             [
              0.2222222222222222,
              "#7201a8"
             ],
             [
              0.3333333333333333,
              "#9c179e"
             ],
             [
              0.4444444444444444,
              "#bd3786"
             ],
             [
              0.5555555555555556,
              "#d8576b"
             ],
             [
              0.6666666666666666,
              "#ed7953"
             ],
             [
              0.7777777777777778,
              "#fb9f3a"
             ],
             [
              0.8888888888888888,
              "#fdca26"
             ],
             [
              1,
              "#f0f921"
             ]
            ],
            "type": "histogram2dcontour"
           }
          ],
          "mesh3d": [
           {
            "colorbar": {
             "outlinewidth": 0,
             "ticks": ""
            },
            "type": "mesh3d"
           }
          ],
          "parcoords": [
           {
            "line": {
             "colorbar": {
              "outlinewidth": 0,
              "ticks": ""
             }
            },
            "type": "parcoords"
           }
          ],
          "pie": [
           {
            "automargin": true,
            "type": "pie"
           }
          ],
          "scatter": [
           {
            "fillpattern": {
             "fillmode": "overlay",
             "size": 10,
             "solidity": 0.2
            },
            "type": "scatter"
           }
          ],
          "scatter3d": [
           {
            "line": {
             "colorbar": {
              "outlinewidth": 0,
              "ticks": ""
             }
            },
            "marker": {
             "colorbar": {
              "outlinewidth": 0,
              "ticks": ""
             }
            },
            "type": "scatter3d"
           }
          ],
          "scattercarpet": [
           {
            "marker": {
             "colorbar": {
              "outlinewidth": 0,
              "ticks": ""
             }
            },
            "type": "scattercarpet"
           }
          ],
          "scattergeo": [
           {
            "marker": {
             "colorbar": {
              "outlinewidth": 0,
              "ticks": ""
             }
            },
            "type": "scattergeo"
           }
          ],
          "scattergl": [
           {
            "marker": {
             "colorbar": {
              "outlinewidth": 0,
              "ticks": ""
             }
            },
            "type": "scattergl"
           }
          ],
          "scattermapbox": [
           {
            "marker": {
             "colorbar": {
              "outlinewidth": 0,
              "ticks": ""
             }
            },
            "type": "scattermapbox"
           }
          ],
          "scatterpolar": [
           {
            "marker": {
             "colorbar": {
              "outlinewidth": 0,
              "ticks": ""
             }
            },
            "type": "scatterpolar"
           }
          ],
          "scatterpolargl": [
           {
            "marker": {
             "colorbar": {
              "outlinewidth": 0,
              "ticks": ""
             }
            },
            "type": "scatterpolargl"
           }
          ],
          "scatterternary": [
           {
            "marker": {
             "colorbar": {
              "outlinewidth": 0,
              "ticks": ""
             }
            },
            "type": "scatterternary"
           }
          ],
          "surface": [
           {
            "colorbar": {
             "outlinewidth": 0,
             "ticks": ""
            },
            "colorscale": [
             [
              0,
              "#0d0887"
             ],
             [
              0.1111111111111111,
              "#46039f"
             ],
             [
              0.2222222222222222,
              "#7201a8"
             ],
             [
              0.3333333333333333,
              "#9c179e"
             ],
             [
              0.4444444444444444,
              "#bd3786"
             ],
             [
              0.5555555555555556,
              "#d8576b"
             ],
             [
              0.6666666666666666,
              "#ed7953"
             ],
             [
              0.7777777777777778,
              "#fb9f3a"
             ],
             [
              0.8888888888888888,
              "#fdca26"
             ],
             [
              1,
              "#f0f921"
             ]
            ],
            "type": "surface"
           }
          ],
          "table": [
           {
            "cells": {
             "fill": {
              "color": "#EBF0F8"
             },
             "line": {
              "color": "white"
             }
            },
            "header": {
             "fill": {
              "color": "#C8D4E3"
             },
             "line": {
              "color": "white"
             }
            },
            "type": "table"
           }
          ]
         },
         "layout": {
          "annotationdefaults": {
           "arrowcolor": "#2a3f5f",
           "arrowhead": 0,
           "arrowwidth": 1
          },
          "autotypenumbers": "strict",
          "coloraxis": {
           "colorbar": {
            "outlinewidth": 0,
            "ticks": ""
           }
          },
          "colorscale": {
           "diverging": [
            [
             0,
             "#8e0152"
            ],
            [
             0.1,
             "#c51b7d"
            ],
            [
             0.2,
             "#de77ae"
            ],
            [
             0.3,
             "#f1b6da"
            ],
            [
             0.4,
             "#fde0ef"
            ],
            [
             0.5,
             "#f7f7f7"
            ],
            [
             0.6,
             "#e6f5d0"
            ],
            [
             0.7,
             "#b8e186"
            ],
            [
             0.8,
             "#7fbc41"
            ],
            [
             0.9,
             "#4d9221"
            ],
            [
             1,
             "#276419"
            ]
           ],
           "sequential": [
            [
             0,
             "#0d0887"
            ],
            [
             0.1111111111111111,
             "#46039f"
            ],
            [
             0.2222222222222222,
             "#7201a8"
            ],
            [
             0.3333333333333333,
             "#9c179e"
            ],
            [
             0.4444444444444444,
             "#bd3786"
            ],
            [
             0.5555555555555556,
             "#d8576b"
            ],
            [
             0.6666666666666666,
             "#ed7953"
            ],
            [
             0.7777777777777778,
             "#fb9f3a"
            ],
            [
             0.8888888888888888,
             "#fdca26"
            ],
            [
             1,
             "#f0f921"
            ]
           ],
           "sequentialminus": [
            [
             0,
             "#0d0887"
            ],
            [
             0.1111111111111111,
             "#46039f"
            ],
            [
             0.2222222222222222,
             "#7201a8"
            ],
            [
             0.3333333333333333,
             "#9c179e"
            ],
            [
             0.4444444444444444,
             "#bd3786"
            ],
            [
             0.5555555555555556,
             "#d8576b"
            ],
            [
             0.6666666666666666,
             "#ed7953"
            ],
            [
             0.7777777777777778,
             "#fb9f3a"
            ],
            [
             0.8888888888888888,
             "#fdca26"
            ],
            [
             1,
             "#f0f921"
            ]
           ]
          },
          "colorway": [
           "#636efa",
           "#EF553B",
           "#00cc96",
           "#ab63fa",
           "#FFA15A",
           "#19d3f3",
           "#FF6692",
           "#B6E880",
           "#FF97FF",
           "#FECB52"
          ],
          "font": {
           "color": "#2a3f5f"
          },
          "geo": {
           "bgcolor": "white",
           "lakecolor": "white",
           "landcolor": "#E5ECF6",
           "showlakes": true,
           "showland": true,
           "subunitcolor": "white"
          },
          "hoverlabel": {
           "align": "left"
          },
          "hovermode": "closest",
          "mapbox": {
           "style": "light"
          },
          "paper_bgcolor": "white",
          "plot_bgcolor": "#E5ECF6",
          "polar": {
           "angularaxis": {
            "gridcolor": "white",
            "linecolor": "white",
            "ticks": ""
           },
           "bgcolor": "#E5ECF6",
           "radialaxis": {
            "gridcolor": "white",
            "linecolor": "white",
            "ticks": ""
           }
          },
          "scene": {
           "xaxis": {
            "backgroundcolor": "#E5ECF6",
            "gridcolor": "white",
            "gridwidth": 2,
            "linecolor": "white",
            "showbackground": true,
            "ticks": "",
            "zerolinecolor": "white"
           },
           "yaxis": {
            "backgroundcolor": "#E5ECF6",
            "gridcolor": "white",
            "gridwidth": 2,
            "linecolor": "white",
            "showbackground": true,
            "ticks": "",
            "zerolinecolor": "white"
           },
           "zaxis": {
            "backgroundcolor": "#E5ECF6",
            "gridcolor": "white",
            "gridwidth": 2,
            "linecolor": "white",
            "showbackground": true,
            "ticks": "",
            "zerolinecolor": "white"
           }
          },
          "shapedefaults": {
           "line": {
            "color": "#2a3f5f"
           }
          },
          "ternary": {
           "aaxis": {
            "gridcolor": "white",
            "linecolor": "white",
            "ticks": ""
           },
           "baxis": {
            "gridcolor": "white",
            "linecolor": "white",
            "ticks": ""
           },
           "bgcolor": "#E5ECF6",
           "caxis": {
            "gridcolor": "white",
            "linecolor": "white",
            "ticks": ""
           }
          },
          "title": {
           "x": 0.05
          },
          "xaxis": {
           "automargin": true,
           "gridcolor": "white",
           "linecolor": "white",
           "ticks": "",
           "title": {
            "standoff": 15
           },
           "zerolinecolor": "white",
           "zerolinewidth": 2
          },
          "yaxis": {
           "automargin": true,
           "gridcolor": "white",
           "linecolor": "white",
           "ticks": "",
           "title": {
            "standoff": 15
           },
           "zerolinecolor": "white",
           "zerolinewidth": 2
          }
         }
        },
        "title": {
         "text": "EUR (Euro) currency values in USD",
         "x": 0.5
        },
        "width": 1400,
        "xaxis": {
         "anchor": "y",
         "domain": [
          0,
          1
         ]
        },
        "yaxis": {
         "anchor": "x",
         "domain": [
          0,
          1
         ],
         "title": {
          "text": "USD ($)"
         }
        }
       }
      }
     },
     "metadata": {},
     "output_type": "display_data"
    }
   ],
   "source": [
    "import plotly.graph_objects as go\n",
    "import plotly.offline as offline\n",
    "from plotly.subplots import make_subplots\n",
    "\n",
    "fig = make_subplots(rows=1, cols=1,)\n",
    "\n",
    "fig.add_trace(\n",
    "    go.Scatter(\n",
    "        x=complete_df_for_plotting[\"date_standard_format\"],\n",
    "        y=complete_df_for_plotting[\"in_dollars\"],\n",
    "        mode='lines+markers',\n",
    "        hoverinfo='text',\n",
    "        text=[f\"{currency} : {value:.3f}$\" for currency, value in zip(complete_df_for_plotting[\"date_natural_format\"], complete_df_for_plotting[\"in_dollars\"],)],\n",
    "        name=None,\n",
    "        showlegend=False\n",
    "    ),\n",
    "    row=1,\n",
    "    col=1\n",
    ")\n",
    "\n",
    "fig.update_layout( height=500, width=1400, showlegend=True, title=f\"{currency_code} ({currency_name}) currency values in USD\", title_x = 0.5)\n",
    "fig.update_yaxes(title_text=\"USD ($)\", row=1, col=1,)\n",
    "\n",
    "figure_path = str(Path(ROOT, \"figures\", f\"currency_evolution_EURO.html\"))\n",
    "offline.plot(fig, filename=figure_path)\n",
    "fig.show()\n",
    "#fig.write_image(figure_path)"
   ]
  },
  {
   "cell_type": "code",
   "execution_count": 16,
   "metadata": {},
   "outputs": [],
   "source": [
    "figure_path = str(Path(ROOT, \"figures\", f\"currency_evolution_EURO.html\"))\n",
    "#fig.write_image(figure_path)"
   ]
  },
  {
   "cell_type": "code",
   "execution_count": 17,
   "metadata": {},
   "outputs": [
    {
     "data": {
      "text/plain": [
       "'C:\\\\Users\\\\mabid\\\\OneDrive\\\\Desktop\\\\Projects - Ongoing\\\\Airflow_ETL\\\\figures\\\\currency_evolution_EURO.html'"
      ]
     },
     "execution_count": 17,
     "metadata": {},
     "output_type": "execute_result"
    }
   ],
   "source": [
    "figure_path"
   ]
  },
  {
   "cell_type": "code",
   "execution_count": 18,
   "metadata": {},
   "outputs": [
    {
     "data": {
      "text/plain": [
       "'C:\\\\Users\\\\mabid\\\\OneDrive\\\\Desktop\\\\Projects - Ongoing\\\\Airflow_ETL\\\\figures\\\\currency_evolution_EURO.html'"
      ]
     },
     "execution_count": 18,
     "metadata": {},
     "output_type": "execute_result"
    }
   ],
   "source": [
    "import plotly\n",
    "plotly.offline.plot(fig, filename=figure_path)"
   ]
  },
  {
   "cell_type": "code",
   "execution_count": 10,
   "metadata": {},
   "outputs": [
    {
     "data": {
      "text/plain": [
       "WindowsPath('C:/Users/mabid/OneDrive/Desktop/Projects - Ongoing/Airflow_ETL/figures/currency_evolution_EUR.png')"
      ]
     },
     "execution_count": 10,
     "metadata": {},
     "output_type": "execute_result"
    }
   ],
   "source": [
    "Path(ROOT, \"figures\", f\"currency_evolution_EUR.png\")"
   ]
  }
 ],
 "metadata": {
  "kernelspec": {
   "display_name": ".venv",
   "language": "python",
   "name": "python3"
  },
  "language_info": {
   "codemirror_mode": {
    "name": "ipython",
    "version": 3
   },
   "file_extension": ".py",
   "mimetype": "text/x-python",
   "name": "python",
   "nbconvert_exporter": "python",
   "pygments_lexer": "ipython3",
   "version": "3.9.7"
  }
 },
 "nbformat": 4,
 "nbformat_minor": 2
}
